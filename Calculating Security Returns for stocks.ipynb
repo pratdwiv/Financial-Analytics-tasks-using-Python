{
 "cells": [
  {
   "cell_type": "code",
   "execution_count": 3,
   "metadata": {
    "collapsed": false
   },
   "outputs": [],
   "source": [
    "#Simple Returns for 'PG' by reading data from Yahoo Finance\n",
    "import numpy as np\n",
    "from pandas_datareader import data as wb\n",
    "import matplotlib.pyplot as plt"
   ]
  },
  {
   "cell_type": "code",
   "execution_count": 4,
   "metadata": {
    "collapsed": false
   },
   "outputs": [],
   "source": [
    "PG = wb.DataReader('PG', data_source = 'yahoo', start = '1995-1-1')"
   ]
  },
  {
   "cell_type": "code",
   "execution_count": 5,
   "metadata": {
    "collapsed": false
   },
   "outputs": [
    {
     "data": {
      "text/html": [
       "<div>\n",
       "<style>\n",
       "    .dataframe thead tr:only-child th {\n",
       "        text-align: right;\n",
       "    }\n",
       "\n",
       "    .dataframe thead th {\n",
       "        text-align: left;\n",
       "    }\n",
       "\n",
       "    .dataframe tbody tr th {\n",
       "        vertical-align: top;\n",
       "    }\n",
       "</style>\n",
       "<table border=\"1\" class=\"dataframe\">\n",
       "  <thead>\n",
       "    <tr style=\"text-align: right;\">\n",
       "      <th></th>\n",
       "      <th>High</th>\n",
       "      <th>Low</th>\n",
       "      <th>Open</th>\n",
       "      <th>Close</th>\n",
       "      <th>Volume</th>\n",
       "      <th>Adj Close</th>\n",
       "    </tr>\n",
       "    <tr>\n",
       "      <th>Date</th>\n",
       "      <th></th>\n",
       "      <th></th>\n",
       "      <th></th>\n",
       "      <th></th>\n",
       "      <th></th>\n",
       "      <th></th>\n",
       "    </tr>\n",
       "  </thead>\n",
       "  <tbody>\n",
       "    <tr>\n",
       "      <th>1995-01-03</th>\n",
       "      <td>15.62500</td>\n",
       "      <td>15.43750</td>\n",
       "      <td>15.46875</td>\n",
       "      <td>15.59375</td>\n",
       "      <td>3318400.0</td>\n",
       "      <td>6.580212</td>\n",
       "    </tr>\n",
       "    <tr>\n",
       "      <th>1995-01-04</th>\n",
       "      <td>15.65625</td>\n",
       "      <td>15.31250</td>\n",
       "      <td>15.53125</td>\n",
       "      <td>15.46875</td>\n",
       "      <td>2218800.0</td>\n",
       "      <td>6.527463</td>\n",
       "    </tr>\n",
       "    <tr>\n",
       "      <th>1995-01-05</th>\n",
       "      <td>15.43750</td>\n",
       "      <td>15.21875</td>\n",
       "      <td>15.37500</td>\n",
       "      <td>15.25000</td>\n",
       "      <td>2319600.0</td>\n",
       "      <td>6.435156</td>\n",
       "    </tr>\n",
       "    <tr>\n",
       "      <th>1995-01-06</th>\n",
       "      <td>15.40625</td>\n",
       "      <td>15.15625</td>\n",
       "      <td>15.15625</td>\n",
       "      <td>15.28125</td>\n",
       "      <td>3438000.0</td>\n",
       "      <td>6.448343</td>\n",
       "    </tr>\n",
       "    <tr>\n",
       "      <th>1995-01-09</th>\n",
       "      <td>15.40625</td>\n",
       "      <td>15.18750</td>\n",
       "      <td>15.34375</td>\n",
       "      <td>15.21875</td>\n",
       "      <td>1795200.0</td>\n",
       "      <td>6.421969</td>\n",
       "    </tr>\n",
       "  </tbody>\n",
       "</table>\n",
       "</div>"
      ],
      "text/plain": [
       "                High       Low      Open     Close     Volume  Adj Close\n",
       "Date                                                                    \n",
       "1995-01-03  15.62500  15.43750  15.46875  15.59375  3318400.0   6.580212\n",
       "1995-01-04  15.65625  15.31250  15.53125  15.46875  2218800.0   6.527463\n",
       "1995-01-05  15.43750  15.21875  15.37500  15.25000  2319600.0   6.435156\n",
       "1995-01-06  15.40625  15.15625  15.15625  15.28125  3438000.0   6.448343\n",
       "1995-01-09  15.40625  15.18750  15.34375  15.21875  1795200.0   6.421969"
      ]
     },
     "execution_count": 5,
     "metadata": {},
     "output_type": "execute_result"
    }
   ],
   "source": [
    "PG.head()"
   ]
  },
  {
   "cell_type": "code",
   "execution_count": 6,
   "metadata": {
    "collapsed": false
   },
   "outputs": [
    {
     "data": {
      "text/html": [
       "<div>\n",
       "<style>\n",
       "    .dataframe thead tr:only-child th {\n",
       "        text-align: right;\n",
       "    }\n",
       "\n",
       "    .dataframe thead th {\n",
       "        text-align: left;\n",
       "    }\n",
       "\n",
       "    .dataframe tbody tr th {\n",
       "        vertical-align: top;\n",
       "    }\n",
       "</style>\n",
       "<table border=\"1\" class=\"dataframe\">\n",
       "  <thead>\n",
       "    <tr style=\"text-align: right;\">\n",
       "      <th></th>\n",
       "      <th>High</th>\n",
       "      <th>Low</th>\n",
       "      <th>Open</th>\n",
       "      <th>Close</th>\n",
       "      <th>Volume</th>\n",
       "      <th>Adj Close</th>\n",
       "    </tr>\n",
       "    <tr>\n",
       "      <th>Date</th>\n",
       "      <th></th>\n",
       "      <th></th>\n",
       "      <th></th>\n",
       "      <th></th>\n",
       "      <th></th>\n",
       "      <th></th>\n",
       "    </tr>\n",
       "  </thead>\n",
       "  <tbody>\n",
       "    <tr>\n",
       "      <th>2018-11-16</th>\n",
       "      <td>94.809998</td>\n",
       "      <td>93.669998</td>\n",
       "      <td>93.820000</td>\n",
       "      <td>93.820000</td>\n",
       "      <td>13013500.0</td>\n",
       "      <td>93.820000</td>\n",
       "    </tr>\n",
       "    <tr>\n",
       "      <th>2018-11-19</th>\n",
       "      <td>94.190002</td>\n",
       "      <td>92.910004</td>\n",
       "      <td>93.720001</td>\n",
       "      <td>93.290001</td>\n",
       "      <td>9458300.0</td>\n",
       "      <td>93.290001</td>\n",
       "    </tr>\n",
       "    <tr>\n",
       "      <th>2018-11-20</th>\n",
       "      <td>93.790001</td>\n",
       "      <td>91.860001</td>\n",
       "      <td>93.239998</td>\n",
       "      <td>92.099998</td>\n",
       "      <td>12074000.0</td>\n",
       "      <td>92.099998</td>\n",
       "    </tr>\n",
       "    <tr>\n",
       "      <th>2018-11-21</th>\n",
       "      <td>92.370003</td>\n",
       "      <td>91.239998</td>\n",
       "      <td>91.660004</td>\n",
       "      <td>91.410004</td>\n",
       "      <td>8911800.0</td>\n",
       "      <td>91.410004</td>\n",
       "    </tr>\n",
       "    <tr>\n",
       "      <th>2018-11-23</th>\n",
       "      <td>91.989998</td>\n",
       "      <td>90.629997</td>\n",
       "      <td>91.250000</td>\n",
       "      <td>91.540001</td>\n",
       "      <td>4399600.0</td>\n",
       "      <td>91.540001</td>\n",
       "    </tr>\n",
       "  </tbody>\n",
       "</table>\n",
       "</div>"
      ],
      "text/plain": [
       "                 High        Low       Open      Close      Volume  Adj Close\n",
       "Date                                                                         \n",
       "2018-11-16  94.809998  93.669998  93.820000  93.820000  13013500.0  93.820000\n",
       "2018-11-19  94.190002  92.910004  93.720001  93.290001   9458300.0  93.290001\n",
       "2018-11-20  93.790001  91.860001  93.239998  92.099998  12074000.0  92.099998\n",
       "2018-11-21  92.370003  91.239998  91.660004  91.410004   8911800.0  91.410004\n",
       "2018-11-23  91.989998  90.629997  91.250000  91.540001   4399600.0  91.540001"
      ]
     },
     "execution_count": 6,
     "metadata": {},
     "output_type": "execute_result"
    }
   ],
   "source": [
    "PG.tail()"
   ]
  },
  {
   "cell_type": "code",
   "execution_count": 7,
   "metadata": {
    "collapsed": false
   },
   "outputs": [
    {
     "name": "stdout",
     "output_type": "stream",
     "text": [
      "Date\n",
      "1995-01-03         NaN\n",
      "1995-01-04   -0.008016\n",
      "1995-01-05   -0.014141\n",
      "1995-01-06    0.002049\n",
      "1995-01-09   -0.004090\n",
      "1995-01-10    0.012320\n",
      "1995-01-11   -0.002028\n",
      "1995-01-12    0.010163\n",
      "1995-01-13    0.029230\n",
      "1995-01-16    0.008000\n",
      "1995-01-17    0.003968\n",
      "1995-01-18   -0.021739\n",
      "1995-01-19   -0.004040\n",
      "1995-01-20   -0.004057\n",
      "1995-01-23    0.010184\n",
      "1995-01-24   -0.002016\n",
      "1995-01-25    0.014141\n",
      "1995-01-26    0.003984\n",
      "1995-01-27    0.027778\n",
      "1995-01-30    0.015444\n",
      "1995-01-31   -0.009506\n",
      "1995-02-01   -0.019194\n",
      "1995-02-02    0.007828\n",
      "1995-02-03    0.009708\n",
      "1995-02-06    0.023077\n",
      "1995-02-07   -0.001880\n",
      "1995-02-08   -0.011299\n",
      "1995-02-09   -0.001905\n",
      "1995-02-10   -0.001908\n",
      "1995-02-13    0.007648\n",
      "                ...   \n",
      "2018-10-12    0.002409\n",
      "2018-10-15    0.013534\n",
      "2018-10-16    0.010982\n",
      "2018-10-17    0.010493\n",
      "2018-10-18   -0.011129\n",
      "2018-10-19    0.087986\n",
      "2018-10-22   -0.008018\n",
      "2018-10-23    0.006467\n",
      "2018-10-24    0.026388\n",
      "2018-10-25   -0.005142\n",
      "2018-10-26   -0.012809\n",
      "2018-10-29    0.004325\n",
      "2018-10-30    0.010766\n",
      "2018-10-31   -0.005718\n",
      "2018-11-01    0.010262\n",
      "2018-11-02    0.002456\n",
      "2018-11-05    0.015477\n",
      "2018-11-06    0.003399\n",
      "2018-11-07   -0.002404\n",
      "2018-11-08    0.000767\n",
      "2018-11-09    0.011493\n",
      "2018-11-12    0.003138\n",
      "2018-11-13    0.008306\n",
      "2018-11-14    0.000214\n",
      "2018-11-15    0.003637\n",
      "2018-11-16   -0.000107\n",
      "2018-11-19   -0.005649\n",
      "2018-11-20   -0.012756\n",
      "2018-11-21   -0.007492\n",
      "2018-11-23    0.001422\n",
      "Name: simple_return, Length: 6018, dtype: float64\n"
     ]
    }
   ],
   "source": [
    "PG['simple_return'] = (PG['Adj Close']/PG['Adj Close'].shift(1))-1\n",
    "print (PG['simple_return'])"
   ]
  },
  {
   "cell_type": "code",
   "execution_count": 11,
   "metadata": {
    "collapsed": false
   },
   "outputs": [
    {
     "data": {
      "image/png": "[encoded data removed]",
      "text/plain": [
       "<matplotlib.figure.Figure at 0x11f886710>"
      ]
     },
     "metadata": {},
     "output_type": "display_data"
    }
   ],
   "source": [
    "# Calculating a Security's Rate of Return\n",
    "PG['simple_return'].plot(figsize=(8,5))\n",
    "plt.show()"
   ]
  },
  {
   "cell_type": "code",
   "execution_count": 13,
   "metadata": {
    "collapsed": false
   },
   "outputs": [
    {
     "data": {
      "text/plain": [
       "0.000537706360227145"
      ]
     },
     "execution_count": 13,
     "metadata": {},
     "output_type": "execute_result"
    }
   ],
   "source": [
    "average_returns_daily = PG['simple_return'].mean()\n",
    "average_returns_daily"
   ]
  },
  {
   "cell_type": "code",
   "execution_count": 14,
   "metadata": {
    "collapsed": false
   },
   "outputs": [
    {
     "data": {
      "text/plain": [
       "0.13442659005678625"
      ]
     },
     "execution_count": 14,
     "metadata": {},
     "output_type": "execute_result"
    }
   ],
   "source": [
    "average_returns_yr = PG['simple_return'].mean() * 250\n",
    "average_returns_yr"
   ]
  },
  {
   "cell_type": "code",
   "execution_count": 18,
   "metadata": {
    "collapsed": false
   },
   "outputs": [
    {
     "name": "stdout",
     "output_type": "stream",
     "text": [
      "13.443%\n"
     ]
    }
   ],
   "source": [
    "print (str(round(average_returns_yr, 5) * 100) + '%')"
   ]
  },
  {
   "cell_type": "code",
   "execution_count": 19,
   "metadata": {
    "collapsed": false
   },
   "outputs": [
    {
     "name": "stdout",
     "output_type": "stream",
     "text": [
      "Date\n",
      "1995-01-03         NaN\n",
      "1995-01-04   -0.008049\n",
      "1995-01-05   -0.014242\n",
      "1995-01-06    0.002047\n",
      "1995-01-09   -0.004098\n",
      "1995-01-10    0.012245\n",
      "1995-01-11   -0.002030\n",
      "1995-01-12    0.010112\n",
      "1995-01-13    0.028811\n",
      "1995-01-16    0.007968\n",
      "1995-01-17    0.003960\n",
      "1995-01-18   -0.021979\n",
      "1995-01-19   -0.004049\n",
      "1995-01-20   -0.004065\n",
      "1995-01-23    0.010132\n",
      "1995-01-24   -0.002018\n",
      "1995-01-25    0.014042\n",
      "1995-01-26    0.003976\n",
      "1995-01-27    0.027399\n",
      "1995-01-30    0.015326\n",
      "1995-01-31   -0.009551\n",
      "1995-02-01   -0.019380\n",
      "1995-02-02    0.007798\n",
      "1995-02-03    0.009661\n",
      "1995-02-06    0.022815\n",
      "1995-02-07   -0.001882\n",
      "1995-02-08   -0.011364\n",
      "1995-02-09   -0.001907\n",
      "1995-02-10   -0.001910\n",
      "1995-02-13    0.007619\n",
      "                ...   \n",
      "2018-10-12    0.002406\n",
      "2018-10-15    0.013443\n",
      "2018-10-16    0.010922\n",
      "2018-10-17    0.010438\n",
      "2018-10-18   -0.011191\n",
      "2018-10-19    0.084328\n",
      "2018-10-22   -0.008051\n",
      "2018-10-23    0.006446\n",
      "2018-10-24    0.026046\n",
      "2018-10-25   -0.005155\n",
      "2018-10-26   -0.012892\n",
      "2018-10-29    0.004316\n",
      "2018-10-30    0.010709\n",
      "2018-10-31   -0.005735\n",
      "2018-11-01    0.010209\n",
      "2018-11-02    0.002453\n",
      "2018-11-05    0.015359\n",
      "2018-11-06    0.003393\n",
      "2018-11-07   -0.002407\n",
      "2018-11-08    0.000766\n",
      "2018-11-09    0.011427\n",
      "2018-11-12    0.003133\n",
      "2018-11-13    0.008272\n",
      "2018-11-14    0.000214\n",
      "2018-11-15    0.003630\n",
      "2018-11-16   -0.000107\n",
      "2018-11-19   -0.005665\n",
      "2018-11-20   -0.012838\n",
      "2018-11-21   -0.007520\n",
      "2018-11-23    0.001421\n",
      "Name: log_return, Length: 6018, dtype: float64\n"
     ]
    }
   ],
   "source": [
    "# Calculating Logarithmic Returns\n",
    "PG['log_return'] = np.log(PG['Adj Close']/PG['Adj Close'].shift(1))\n",
    "print (PG['log_return'])"
   ]
  },
  {
   "cell_type": "code",
   "execution_count": 20,
   "metadata": {
    "collapsed": false
   },
   "outputs": [
    {
     "data": {
      "image/png": "[encoded data removed]",
      "text/plain": [
       "<matplotlib.figure.Figure at 0x11f881128>"
      ]
     },
     "metadata": {},
     "output_type": "display_data"
    }
   ],
   "source": [
    "PG['log_return'].plot(figsize=(8,5))\n",
    "plt.show()"
   ]
  },
  {
   "cell_type": "code",
   "execution_count": 21,
   "metadata": {
    "collapsed": false
   },
   "outputs": [
    {
     "data": {
      "text/plain": [
       "0.0004375451327735379"
      ]
     },
     "execution_count": 21,
     "metadata": {},
     "output_type": "execute_result"
    }
   ],
   "source": [
    "log_return_d = PG['log_return'].mean()\n",
    "log_return_d"
   ]
  },
  {
   "cell_type": "code",
   "execution_count": 22,
   "metadata": {
    "collapsed": false
   },
   "outputs": [
    {
     "data": {
      "text/plain": [
       "0.10938628319338448"
      ]
     },
     "execution_count": 22,
     "metadata": {},
     "output_type": "execute_result"
    }
   ],
   "source": [
    "log_return_yr = PG['log_return'].mean() * 250\n",
    "log_return_yr"
   ]
  },
  {
   "cell_type": "code",
   "execution_count": 23,
   "metadata": {
    "collapsed": false
   },
   "outputs": [
    {
     "name": "stdout",
     "output_type": "stream",
     "text": [
      "10.939%\n"
     ]
    }
   ],
   "source": [
    "print (str(round(log_return_yr, 5) * 100) + '%')"
   ]
  },
  {
   "cell_type": "code",
   "execution_count": null,
   "metadata": {
    "collapsed": true
   },
   "outputs": [],
   "source": []
  }
 ],
 "metadata": {
  "anaconda-cloud": {},
  "kernelspec": {
   "display_name": "Python [default]",
   "language": "python",
   "name": "python3"
  },
  "language_info": {
   "codemirror_mode": {
    "name": "ipython",
    "version": 3
   },
   "file_extension": ".py",
   "mimetype": "text/x-python",
   "name": "python",
   "nbconvert_exporter": "python",
   "pygments_lexer": "ipython3",
   "version": "3.5.2"
  }
 },
 "nbformat": 4,
 "nbformat_minor": 1
}
